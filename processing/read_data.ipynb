{
 "cells": [
  {
   "cell_type": "code",
   "id": "ca802b34-b186-4ee3-985a-516524f63379",
   "metadata": {
    "jupyter": {
     "is_executing": true
    }
   },
   "source": [
    "import pandas as pd\n",
    "import numpy as np\n",
    "import os\n",
    "import glob"
   ],
   "outputs": [],
   "execution_count": null
  },
  {
   "cell_type": "code",
   "id": "a394305e-d375-4601-b99a-74263f2bfb80",
   "metadata": {
    "jupyter": {
     "is_executing": true
    }
   },
   "source": [
    "folder_path = r\"E:\\fecom-ecom-realtime-recommendation\\data\\raw\"\n",
    "\n",
    "csv_all_path = glob.glob(os.path.join(folder_path, \"*.csv\"))\n",
    "\n",
    "for path in csv_all_path:\n",
    "    file_name = os.path.basename(path).replace(\".csv\", \"\")\n",
    "    print(f\"Reading {path}\")\n",
    "    "
   ],
   "outputs": [],
   "execution_count": null
  },
  {
   "cell_type": "markdown",
   "id": "184a9aba-7b17-460c-a40f-0806e819c674",
   "metadata": {},
   "source": [
    "# I. Customer List"
   ]
  },
  {
   "cell_type": "code",
   "execution_count": null,
   "id": "79507919-7f44-4cd4-9b79-71dcec966035",
   "metadata": {},
   "outputs": [],
   "source": []
  },
  {
   "cell_type": "markdown",
   "id": "2c7d02b6-a1f8-421f-90c7-988021d94ad9",
   "metadata": {},
   "source": [
    "# II. Geolocations"
   ]
  },
  {
   "cell_type": "markdown",
   "id": "42d34514-6e6e-4656-bcb7-022e8d2466bb",
   "metadata": {},
   "source": [
    "# III. Order Items"
   ]
  },
  {
   "cell_type": "markdown",
   "id": "fb10b333-de90-4c0e-a13d-5e71fa9f9604",
   "metadata": {},
   "source": [
    "# IV. Order Payments"
   ]
  },
  {
   "cell_type": "markdown",
   "id": "ba6bde2c-a941-41ca-80bd-64fce9e18880",
   "metadata": {},
   "source": [
    "# V. Order Payments"
   ]
  },
  {
   "cell_type": "markdown",
   "id": "f77a291c-bc5b-4968-8f1c-46af6e7a0709",
   "metadata": {},
   "source": [
    "# VI. Products"
   ]
  },
  {
   "cell_type": "markdown",
   "id": "573e792d-99f1-4e8c-a447-2c93a6ebfac1",
   "metadata": {},
   "source": [
    "# VII. Sellers List"
   ]
  },
  {
   "cell_type": "markdown",
   "id": "3f81ea84-e03b-4b5f-8220-997755e00f28",
   "metadata": {},
   "source": [
    "# VIII. Order_Reviews_No_Emojis"
   ]
  }
 ],
 "metadata": {
  "kernelspec": {
   "display_name": "Python 3 (ipykernel)",
   "language": "python",
   "name": "python3"
  },
  "language_info": {
   "codemirror_mode": {
    "name": "ipython",
    "version": 3
   },
   "file_extension": ".py",
   "mimetype": "text/x-python",
   "name": "python",
   "nbconvert_exporter": "python",
   "pygments_lexer": "ipython3",
   "version": "3.12.9"
  }
 },
 "nbformat": 4,
 "nbformat_minor": 5
}
